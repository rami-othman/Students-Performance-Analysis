{
 "cells": [
  {
   "cell_type": "markdown",
   "id": "16d6d781",
   "metadata": {},
   "source": [
    "# Libraries"
   ]
  },
  {
   "cell_type": "code",
   "execution_count": 3,
   "id": "566bfdf8",
   "metadata": {},
   "outputs": [],
   "source": [
    "import numpy as np \n",
    "import pandas as pd\n",
    "import matplotlib.pyplot as plt\n",
    "import seaborn as sns "
   ]
  },
  {
   "cell_type": "code",
   "execution_count": 25,
   "id": "798e4b22",
   "metadata": {},
   "outputs": [],
   "source": [
    "import warnings\n",
    "warnings.filterwarnings('ignore')"
   ]
  },
  {
   "cell_type": "markdown",
   "id": "bcbf13cd",
   "metadata": {},
   "source": [
    "# phase 1"
   ]
  },
  {
   "cell_type": "markdown",
   "id": "eaf2b721",
   "metadata": {},
   "source": [
    "## Load data"
   ]
  },
  {
   "cell_type": "code",
   "execution_count": 9,
   "id": "df9163ca",
   "metadata": {},
   "outputs": [
    {
     "data": {
      "application/vnd.microsoft.datawrangler.viewer.v0+json": {
       "columns": [
        {
         "name": "index",
         "rawType": "int64",
         "type": "integer"
        },
        {
         "name": "gender",
         "rawType": "object",
         "type": "string"
        },
        {
         "name": "race/ethnicity",
         "rawType": "object",
         "type": "string"
        },
        {
         "name": "parental level of education",
         "rawType": "object",
         "type": "string"
        },
        {
         "name": "lunch",
         "rawType": "object",
         "type": "string"
        },
        {
         "name": "test preparation course",
         "rawType": "object",
         "type": "string"
        },
        {
         "name": "math score",
         "rawType": "int64",
         "type": "integer"
        },
        {
         "name": "reading score",
         "rawType": "int64",
         "type": "integer"
        },
        {
         "name": "writing score",
         "rawType": "int64",
         "type": "integer"
        }
       ],
       "ref": "f25392f7-1dee-4c79-ab45-127ea34bb29c",
       "rows": [
        [
         "0",
         "female",
         "group B",
         "bachelor's degree",
         "standard",
         "none",
         "72",
         "72",
         "74"
        ],
        [
         "1",
         "female",
         "group C",
         "some college",
         "standard",
         "completed",
         "69",
         "90",
         "88"
        ],
        [
         "2",
         "female",
         "group B",
         "master's degree",
         "standard",
         "none",
         "90",
         "95",
         "93"
        ],
        [
         "3",
         "male",
         "group A",
         "associate's degree",
         "free/reduced",
         "none",
         "47",
         "57",
         "44"
        ],
        [
         "4",
         "male",
         "group C",
         "some college",
         "standard",
         "none",
         "76",
         "78",
         "75"
        ]
       ],
       "shape": {
        "columns": 8,
        "rows": 5
       }
      },
      "text/html": [
       "<div>\n",
       "<style scoped>\n",
       "    .dataframe tbody tr th:only-of-type {\n",
       "        vertical-align: middle;\n",
       "    }\n",
       "\n",
       "    .dataframe tbody tr th {\n",
       "        vertical-align: top;\n",
       "    }\n",
       "\n",
       "    .dataframe thead th {\n",
       "        text-align: right;\n",
       "    }\n",
       "</style>\n",
       "<table border=\"1\" class=\"dataframe\">\n",
       "  <thead>\n",
       "    <tr style=\"text-align: right;\">\n",
       "      <th></th>\n",
       "      <th>gender</th>\n",
       "      <th>race/ethnicity</th>\n",
       "      <th>parental level of education</th>\n",
       "      <th>lunch</th>\n",
       "      <th>test preparation course</th>\n",
       "      <th>math score</th>\n",
       "      <th>reading score</th>\n",
       "      <th>writing score</th>\n",
       "    </tr>\n",
       "  </thead>\n",
       "  <tbody>\n",
       "    <tr>\n",
       "      <th>0</th>\n",
       "      <td>female</td>\n",
       "      <td>group B</td>\n",
       "      <td>bachelor's degree</td>\n",
       "      <td>standard</td>\n",
       "      <td>none</td>\n",
       "      <td>72</td>\n",
       "      <td>72</td>\n",
       "      <td>74</td>\n",
       "    </tr>\n",
       "    <tr>\n",
       "      <th>1</th>\n",
       "      <td>female</td>\n",
       "      <td>group C</td>\n",
       "      <td>some college</td>\n",
       "      <td>standard</td>\n",
       "      <td>completed</td>\n",
       "      <td>69</td>\n",
       "      <td>90</td>\n",
       "      <td>88</td>\n",
       "    </tr>\n",
       "    <tr>\n",
       "      <th>2</th>\n",
       "      <td>female</td>\n",
       "      <td>group B</td>\n",
       "      <td>master's degree</td>\n",
       "      <td>standard</td>\n",
       "      <td>none</td>\n",
       "      <td>90</td>\n",
       "      <td>95</td>\n",
       "      <td>93</td>\n",
       "    </tr>\n",
       "    <tr>\n",
       "      <th>3</th>\n",
       "      <td>male</td>\n",
       "      <td>group A</td>\n",
       "      <td>associate's degree</td>\n",
       "      <td>free/reduced</td>\n",
       "      <td>none</td>\n",
       "      <td>47</td>\n",
       "      <td>57</td>\n",
       "      <td>44</td>\n",
       "    </tr>\n",
       "    <tr>\n",
       "      <th>4</th>\n",
       "      <td>male</td>\n",
       "      <td>group C</td>\n",
       "      <td>some college</td>\n",
       "      <td>standard</td>\n",
       "      <td>none</td>\n",
       "      <td>76</td>\n",
       "      <td>78</td>\n",
       "      <td>75</td>\n",
       "    </tr>\n",
       "  </tbody>\n",
       "</table>\n",
       "</div>"
      ],
      "text/plain": [
       "   gender race/ethnicity parental level of education         lunch  \\\n",
       "0  female        group B           bachelor's degree      standard   \n",
       "1  female        group C                some college      standard   \n",
       "2  female        group B             master's degree      standard   \n",
       "3    male        group A          associate's degree  free/reduced   \n",
       "4    male        group C                some college      standard   \n",
       "\n",
       "  test preparation course  math score  reading score  writing score  \n",
       "0                    none          72             72             74  \n",
       "1               completed          69             90             88  \n",
       "2                    none          90             95             93  \n",
       "3                    none          47             57             44  \n",
       "4                    none          76             78             75  "
      ]
     },
     "execution_count": 9,
     "metadata": {},
     "output_type": "execute_result"
    }
   ],
   "source": [
    "df = pd.read_csv(\"data/StudentsPerformance.csv\")\n",
    "df.head()"
   ]
  },
  {
   "cell_type": "markdown",
   "id": "ee09d997",
   "metadata": {},
   "source": [
    "## Data basic info "
   ]
  },
  {
   "cell_type": "code",
   "execution_count": 10,
   "id": "98edf0e3",
   "metadata": {},
   "outputs": [
    {
     "name": "stdout",
     "output_type": "stream",
     "text": [
      "(1000, 8)\n"
     ]
    }
   ],
   "source": [
    "print(df.shape)"
   ]
  },
  {
   "cell_type": "code",
   "execution_count": 11,
   "id": "4f2e6fbd",
   "metadata": {},
   "outputs": [
    {
     "name": "stdout",
     "output_type": "stream",
     "text": [
      "Index(['gender', 'race/ethnicity', 'parental level of education', 'lunch',\n",
      "       'test preparation course', 'math score', 'reading score',\n",
      "       'writing score'],\n",
      "      dtype='object')\n"
     ]
    }
   ],
   "source": [
    "print(df.columns)"
   ]
  },
  {
   "cell_type": "code",
   "execution_count": 12,
   "id": "befda7f9",
   "metadata": {},
   "outputs": [
    {
     "name": "stdout",
     "output_type": "stream",
     "text": [
      "<class 'pandas.core.frame.DataFrame'>\n",
      "RangeIndex: 1000 entries, 0 to 999\n",
      "Data columns (total 8 columns):\n",
      " #   Column                       Non-Null Count  Dtype \n",
      "---  ------                       --------------  ----- \n",
      " 0   gender                       1000 non-null   object\n",
      " 1   race/ethnicity               1000 non-null   object\n",
      " 2   parental level of education  1000 non-null   object\n",
      " 3   lunch                        1000 non-null   object\n",
      " 4   test preparation course      1000 non-null   object\n",
      " 5   math score                   1000 non-null   int64 \n",
      " 6   reading score                1000 non-null   int64 \n",
      " 7   writing score                1000 non-null   int64 \n",
      "dtypes: int64(3), object(5)\n",
      "memory usage: 62.6+ KB\n"
     ]
    }
   ],
   "source": [
    "df.info()"
   ]
  },
  {
   "cell_type": "code",
   "execution_count": 17,
   "id": "3d8a0f6c",
   "metadata": {},
   "outputs": [
    {
     "name": "stdout",
     "output_type": "stream",
     "text": [
      "False    1000\n",
      "Name: count, dtype: int64\n"
     ]
    }
   ],
   "source": [
    "print(df.duplicated().value_counts())"
   ]
  },
  {
   "cell_type": "markdown",
   "id": "a33316c3",
   "metadata": {},
   "source": [
    "`no duplicated Recodes`"
   ]
  },
  {
   "cell_type": "code",
   "execution_count": 21,
   "id": "ad9a0204",
   "metadata": {},
   "outputs": [
    {
     "data": {
      "application/vnd.microsoft.datawrangler.viewer.v0+json": {
       "columns": [
        {
         "name": "index",
         "rawType": "object",
         "type": "string"
        },
        {
         "name": "0",
         "rawType": "bool",
         "type": "boolean"
        }
       ],
       "ref": "35eec272-d3e2-4305-9c66-f18d2e6e9331",
       "rows": [
        [
         "gender",
         "False"
        ],
        [
         "race/ethnicity",
         "False"
        ],
        [
         "parental level of education",
         "False"
        ],
        [
         "lunch",
         "False"
        ],
        [
         "test preparation course",
         "False"
        ],
        [
         "math score",
         "False"
        ],
        [
         "reading score",
         "False"
        ],
        [
         "writing score",
         "False"
        ]
       ],
       "shape": {
        "columns": 1,
        "rows": 8
       }
      },
      "text/plain": [
       "gender                         False\n",
       "race/ethnicity                 False\n",
       "parental level of education    False\n",
       "lunch                          False\n",
       "test preparation course        False\n",
       "math score                     False\n",
       "reading score                  False\n",
       "writing score                  False\n",
       "dtype: bool"
      ]
     },
     "execution_count": 21,
     "metadata": {},
     "output_type": "execute_result"
    }
   ],
   "source": [
    "df.isnull().any()"
   ]
  },
  {
   "cell_type": "code",
   "execution_count": 22,
   "id": "379592c9",
   "metadata": {},
   "outputs": [
    {
     "data": {
      "application/vnd.microsoft.datawrangler.viewer.v0+json": {
       "columns": [
        {
         "name": "index",
         "rawType": "object",
         "type": "string"
        },
        {
         "name": "0",
         "rawType": "int64",
         "type": "integer"
        }
       ],
       "ref": "8fc7c1aa-ff94-4483-864e-ba08ccdceabb",
       "rows": [
        [
         "gender",
         "0"
        ],
        [
         "race/ethnicity",
         "0"
        ],
        [
         "parental level of education",
         "0"
        ],
        [
         "lunch",
         "0"
        ],
        [
         "test preparation course",
         "0"
        ],
        [
         "math score",
         "0"
        ],
        [
         "reading score",
         "0"
        ],
        [
         "writing score",
         "0"
        ]
       ],
       "shape": {
        "columns": 1,
        "rows": 8
       }
      },
      "text/plain": [
       "gender                         0\n",
       "race/ethnicity                 0\n",
       "parental level of education    0\n",
       "lunch                          0\n",
       "test preparation course        0\n",
       "math score                     0\n",
       "reading score                  0\n",
       "writing score                  0\n",
       "dtype: int64"
      ]
     },
     "execution_count": 22,
     "metadata": {},
     "output_type": "execute_result"
    }
   ],
   "source": [
    "df.isnull().sum()"
   ]
  },
  {
   "cell_type": "markdown",
   "id": "6100dd0c",
   "metadata": {},
   "source": [
    "`no null value`"
   ]
  },
  {
   "cell_type": "code",
   "execution_count": 24,
   "id": "4af1314a",
   "metadata": {},
   "outputs": [
    {
     "data": {
      "application/vnd.microsoft.datawrangler.viewer.v0+json": {
       "columns": [
        {
         "name": "index",
         "rawType": "int64",
         "type": "integer"
        },
        {
         "name": "gender",
         "rawType": "object",
         "type": "string"
        },
        {
         "name": "race/ethnicity",
         "rawType": "object",
         "type": "string"
        },
        {
         "name": "parental level of education",
         "rawType": "object",
         "type": "string"
        },
        {
         "name": "lunch",
         "rawType": "object",
         "type": "string"
        },
        {
         "name": "test preparation course",
         "rawType": "object",
         "type": "string"
        },
        {
         "name": "math score",
         "rawType": "int64",
         "type": "integer"
        },
        {
         "name": "reading score",
         "rawType": "int64",
         "type": "integer"
        },
        {
         "name": "writing score",
         "rawType": "int64",
         "type": "integer"
        }
       ],
       "ref": "c5e7e4a0-c926-4bd4-8ccd-2b8f9e26246b",
       "rows": [
        [
         "0",
         "female",
         "group B",
         "bachelor's degree",
         "standard",
         "none",
         "72",
         "72",
         "74"
        ],
        [
         "1",
         "female",
         "group C",
         "some college",
         "standard",
         "completed",
         "69",
         "90",
         "88"
        ],
        [
         "2",
         "female",
         "group B",
         "master's degree",
         "standard",
         "none",
         "90",
         "95",
         "93"
        ],
        [
         "3",
         "male",
         "group A",
         "associate's degree",
         "free/reduced",
         "none",
         "47",
         "57",
         "44"
        ],
        [
         "4",
         "male",
         "group C",
         "some college",
         "standard",
         "none",
         "76",
         "78",
         "75"
        ],
        [
         "5",
         "female",
         "group B",
         "associate's degree",
         "standard",
         "none",
         "71",
         "83",
         "78"
        ],
        [
         "6",
         "female",
         "group B",
         "some college",
         "standard",
         "completed",
         "88",
         "95",
         "92"
        ],
        [
         "7",
         "male",
         "group B",
         "some college",
         "free/reduced",
         "none",
         "40",
         "43",
         "39"
        ],
        [
         "8",
         "male",
         "group D",
         "high school",
         "free/reduced",
         "completed",
         "64",
         "64",
         "67"
        ],
        [
         "9",
         "female",
         "group B",
         "high school",
         "free/reduced",
         "none",
         "38",
         "60",
         "50"
        ],
        [
         "10",
         "male",
         "group C",
         "associate's degree",
         "standard",
         "none",
         "58",
         "54",
         "52"
        ],
        [
         "11",
         "male",
         "group D",
         "associate's degree",
         "standard",
         "none",
         "40",
         "52",
         "43"
        ],
        [
         "12",
         "female",
         "group B",
         "high school",
         "standard",
         "none",
         "65",
         "81",
         "73"
        ],
        [
         "13",
         "male",
         "group A",
         "some college",
         "standard",
         "completed",
         "78",
         "72",
         "70"
        ],
        [
         "14",
         "female",
         "group A",
         "master's degree",
         "standard",
         "none",
         "50",
         "53",
         "58"
        ],
        [
         "15",
         "female",
         "group C",
         "some high school",
         "standard",
         "none",
         "69",
         "75",
         "78"
        ],
        [
         "16",
         "male",
         "group C",
         "high school",
         "standard",
         "none",
         "88",
         "89",
         "86"
        ],
        [
         "17",
         "female",
         "group B",
         "some high school",
         "free/reduced",
         "none",
         "18",
         "32",
         "28"
        ],
        [
         "18",
         "male",
         "group C",
         "master's degree",
         "free/reduced",
         "completed",
         "46",
         "42",
         "46"
        ],
        [
         "19",
         "female",
         "group C",
         "associate's degree",
         "free/reduced",
         "none",
         "54",
         "58",
         "61"
        ],
        [
         "20",
         "male",
         "group D",
         "high school",
         "standard",
         "none",
         "66",
         "69",
         "63"
        ],
        [
         "21",
         "female",
         "group B",
         "some college",
         "free/reduced",
         "completed",
         "65",
         "75",
         "70"
        ],
        [
         "22",
         "male",
         "group D",
         "some college",
         "standard",
         "none",
         "44",
         "54",
         "53"
        ],
        [
         "23",
         "female",
         "group C",
         "some high school",
         "standard",
         "none",
         "69",
         "73",
         "73"
        ],
        [
         "24",
         "male",
         "group D",
         "bachelor's degree",
         "free/reduced",
         "completed",
         "74",
         "71",
         "80"
        ],
        [
         "25",
         "male",
         "group A",
         "master's degree",
         "free/reduced",
         "none",
         "73",
         "74",
         "72"
        ],
        [
         "26",
         "male",
         "group B",
         "some college",
         "standard",
         "none",
         "69",
         "54",
         "55"
        ],
        [
         "27",
         "female",
         "group C",
         "bachelor's degree",
         "standard",
         "none",
         "67",
         "69",
         "75"
        ],
        [
         "28",
         "male",
         "group C",
         "high school",
         "standard",
         "none",
         "70",
         "70",
         "65"
        ],
        [
         "29",
         "female",
         "group D",
         "master's degree",
         "standard",
         "none",
         "62",
         "70",
         "75"
        ],
        [
         "30",
         "female",
         "group D",
         "some college",
         "standard",
         "none",
         "69",
         "74",
         "74"
        ],
        [
         "31",
         "female",
         "group B",
         "some college",
         "standard",
         "none",
         "63",
         "65",
         "61"
        ],
        [
         "32",
         "female",
         "group E",
         "master's degree",
         "free/reduced",
         "none",
         "56",
         "72",
         "65"
        ],
        [
         "33",
         "male",
         "group D",
         "some college",
         "standard",
         "none",
         "40",
         "42",
         "38"
        ],
        [
         "34",
         "male",
         "group E",
         "some college",
         "standard",
         "none",
         "97",
         "87",
         "82"
        ],
        [
         "35",
         "male",
         "group E",
         "associate's degree",
         "standard",
         "completed",
         "81",
         "81",
         "79"
        ],
        [
         "36",
         "female",
         "group D",
         "associate's degree",
         "standard",
         "none",
         "74",
         "81",
         "83"
        ],
        [
         "37",
         "female",
         "group D",
         "some high school",
         "free/reduced",
         "none",
         "50",
         "64",
         "59"
        ],
        [
         "38",
         "female",
         "group D",
         "associate's degree",
         "free/reduced",
         "completed",
         "75",
         "90",
         "88"
        ],
        [
         "39",
         "male",
         "group B",
         "associate's degree",
         "free/reduced",
         "none",
         "57",
         "56",
         "57"
        ],
        [
         "40",
         "male",
         "group C",
         "associate's degree",
         "free/reduced",
         "none",
         "55",
         "61",
         "54"
        ],
        [
         "41",
         "female",
         "group C",
         "associate's degree",
         "standard",
         "none",
         "58",
         "73",
         "68"
        ],
        [
         "42",
         "female",
         "group B",
         "associate's degree",
         "standard",
         "none",
         "53",
         "58",
         "65"
        ],
        [
         "43",
         "male",
         "group B",
         "some college",
         "free/reduced",
         "completed",
         "59",
         "65",
         "66"
        ],
        [
         "44",
         "female",
         "group E",
         "associate's degree",
         "free/reduced",
         "none",
         "50",
         "56",
         "54"
        ],
        [
         "45",
         "male",
         "group B",
         "associate's degree",
         "standard",
         "none",
         "65",
         "54",
         "57"
        ],
        [
         "46",
         "female",
         "group A",
         "associate's degree",
         "standard",
         "completed",
         "55",
         "65",
         "62"
        ],
        [
         "47",
         "female",
         "group C",
         "high school",
         "standard",
         "none",
         "66",
         "71",
         "76"
        ],
        [
         "48",
         "female",
         "group D",
         "associate's degree",
         "free/reduced",
         "completed",
         "57",
         "74",
         "76"
        ],
        [
         "49",
         "male",
         "group C",
         "high school",
         "standard",
         "completed",
         "82",
         "84",
         "82"
        ]
       ],
       "shape": {
        "columns": 8,
        "rows": 1000
       }
      },
      "text/html": [
       "<div>\n",
       "<style scoped>\n",
       "    .dataframe tbody tr th:only-of-type {\n",
       "        vertical-align: middle;\n",
       "    }\n",
       "\n",
       "    .dataframe tbody tr th {\n",
       "        vertical-align: top;\n",
       "    }\n",
       "\n",
       "    .dataframe thead th {\n",
       "        text-align: right;\n",
       "    }\n",
       "</style>\n",
       "<table border=\"1\" class=\"dataframe\">\n",
       "  <thead>\n",
       "    <tr style=\"text-align: right;\">\n",
       "      <th></th>\n",
       "      <th>gender</th>\n",
       "      <th>race/ethnicity</th>\n",
       "      <th>parental level of education</th>\n",
       "      <th>lunch</th>\n",
       "      <th>test preparation course</th>\n",
       "      <th>math score</th>\n",
       "      <th>reading score</th>\n",
       "      <th>writing score</th>\n",
       "    </tr>\n",
       "  </thead>\n",
       "  <tbody>\n",
       "    <tr>\n",
       "      <th>0</th>\n",
       "      <td>female</td>\n",
       "      <td>group B</td>\n",
       "      <td>bachelor's degree</td>\n",
       "      <td>standard</td>\n",
       "      <td>none</td>\n",
       "      <td>72</td>\n",
       "      <td>72</td>\n",
       "      <td>74</td>\n",
       "    </tr>\n",
       "    <tr>\n",
       "      <th>1</th>\n",
       "      <td>female</td>\n",
       "      <td>group C</td>\n",
       "      <td>some college</td>\n",
       "      <td>standard</td>\n",
       "      <td>completed</td>\n",
       "      <td>69</td>\n",
       "      <td>90</td>\n",
       "      <td>88</td>\n",
       "    </tr>\n",
       "    <tr>\n",
       "      <th>2</th>\n",
       "      <td>female</td>\n",
       "      <td>group B</td>\n",
       "      <td>master's degree</td>\n",
       "      <td>standard</td>\n",
       "      <td>none</td>\n",
       "      <td>90</td>\n",
       "      <td>95</td>\n",
       "      <td>93</td>\n",
       "    </tr>\n",
       "    <tr>\n",
       "      <th>3</th>\n",
       "      <td>male</td>\n",
       "      <td>group A</td>\n",
       "      <td>associate's degree</td>\n",
       "      <td>free/reduced</td>\n",
       "      <td>none</td>\n",
       "      <td>47</td>\n",
       "      <td>57</td>\n",
       "      <td>44</td>\n",
       "    </tr>\n",
       "    <tr>\n",
       "      <th>4</th>\n",
       "      <td>male</td>\n",
       "      <td>group C</td>\n",
       "      <td>some college</td>\n",
       "      <td>standard</td>\n",
       "      <td>none</td>\n",
       "      <td>76</td>\n",
       "      <td>78</td>\n",
       "      <td>75</td>\n",
       "    </tr>\n",
       "    <tr>\n",
       "      <th>...</th>\n",
       "      <td>...</td>\n",
       "      <td>...</td>\n",
       "      <td>...</td>\n",
       "      <td>...</td>\n",
       "      <td>...</td>\n",
       "      <td>...</td>\n",
       "      <td>...</td>\n",
       "      <td>...</td>\n",
       "    </tr>\n",
       "    <tr>\n",
       "      <th>995</th>\n",
       "      <td>female</td>\n",
       "      <td>group E</td>\n",
       "      <td>master's degree</td>\n",
       "      <td>standard</td>\n",
       "      <td>completed</td>\n",
       "      <td>88</td>\n",
       "      <td>99</td>\n",
       "      <td>95</td>\n",
       "    </tr>\n",
       "    <tr>\n",
       "      <th>996</th>\n",
       "      <td>male</td>\n",
       "      <td>group C</td>\n",
       "      <td>high school</td>\n",
       "      <td>free/reduced</td>\n",
       "      <td>none</td>\n",
       "      <td>62</td>\n",
       "      <td>55</td>\n",
       "      <td>55</td>\n",
       "    </tr>\n",
       "    <tr>\n",
       "      <th>997</th>\n",
       "      <td>female</td>\n",
       "      <td>group C</td>\n",
       "      <td>high school</td>\n",
       "      <td>free/reduced</td>\n",
       "      <td>completed</td>\n",
       "      <td>59</td>\n",
       "      <td>71</td>\n",
       "      <td>65</td>\n",
       "    </tr>\n",
       "    <tr>\n",
       "      <th>998</th>\n",
       "      <td>female</td>\n",
       "      <td>group D</td>\n",
       "      <td>some college</td>\n",
       "      <td>standard</td>\n",
       "      <td>completed</td>\n",
       "      <td>68</td>\n",
       "      <td>78</td>\n",
       "      <td>77</td>\n",
       "    </tr>\n",
       "    <tr>\n",
       "      <th>999</th>\n",
       "      <td>female</td>\n",
       "      <td>group D</td>\n",
       "      <td>some college</td>\n",
       "      <td>free/reduced</td>\n",
       "      <td>none</td>\n",
       "      <td>77</td>\n",
       "      <td>86</td>\n",
       "      <td>86</td>\n",
       "    </tr>\n",
       "  </tbody>\n",
       "</table>\n",
       "<p>1000 rows × 8 columns</p>\n",
       "</div>"
      ],
      "text/plain": [
       "     gender race/ethnicity parental level of education         lunch  \\\n",
       "0    female        group B           bachelor's degree      standard   \n",
       "1    female        group C                some college      standard   \n",
       "2    female        group B             master's degree      standard   \n",
       "3      male        group A          associate's degree  free/reduced   \n",
       "4      male        group C                some college      standard   \n",
       "..      ...            ...                         ...           ...   \n",
       "995  female        group E             master's degree      standard   \n",
       "996    male        group C                 high school  free/reduced   \n",
       "997  female        group C                 high school  free/reduced   \n",
       "998  female        group D                some college      standard   \n",
       "999  female        group D                some college  free/reduced   \n",
       "\n",
       "    test preparation course  math score  reading score  writing score  \n",
       "0                      none          72             72             74  \n",
       "1                 completed          69             90             88  \n",
       "2                      none          90             95             93  \n",
       "3                      none          47             57             44  \n",
       "4                      none          76             78             75  \n",
       "..                      ...         ...            ...            ...  \n",
       "995               completed          88             99             95  \n",
       "996                    none          62             55             55  \n",
       "997               completed          59             71             65  \n",
       "998               completed          68             78             77  \n",
       "999                    none          77             86             86  \n",
       "\n",
       "[1000 rows x 8 columns]"
      ]
     },
     "execution_count": 24,
     "metadata": {},
     "output_type": "execute_result"
    }
   ],
   "source": [
    "df"
   ]
  },
  {
   "cell_type": "markdown",
   "id": "d353e901",
   "metadata": {},
   "source": [
    "## phase 1 outputs\n",
    "**Let's talk about the columns:**\n",
    "1. gender : gender of student\n",
    "2. race/ethnicity : the groups of the student\n",
    "3. parental level of education : education level\n",
    "4. lunch : is the food level is (free or standard)\n",
    "5. test preparation course : is the student finish the course of the test or not before the test\n",
    "6. math score : the math exam score \n",
    "7. reading score : the reading exam score \n",
    "8. writing  score : the writing exam score \n",
    "\n",
    "the columns `1 -> 5` is categorical columns, `6 -> 8` is num columns (the score of each student in subjects)  "
   ]
  },
  {
   "cell_type": "markdown",
   "id": "6f1620fd",
   "metadata": {},
   "source": [
    "# Phase 2 : Data Cleaning"
   ]
  },
  {
   "cell_type": "markdown",
   "id": "77d28eef",
   "metadata": {},
   "source": [
    "## Rename columns"
   ]
  },
  {
   "cell_type": "code",
   "execution_count": 26,
   "id": "ef59a8e2",
   "metadata": {},
   "outputs": [
    {
     "name": "stdout",
     "output_type": "stream",
     "text": [
      "Index(['gender', 'race/ethnicity', 'parental level of education', 'lunch',\n",
      "       'test preparation course', 'math score', 'reading score',\n",
      "       'writing score'],\n",
      "      dtype='object')\n"
     ]
    }
   ],
   "source": [
    "print(df.columns) "
   ]
  },
  {
   "cell_type": "code",
   "execution_count": 32,
   "id": "9180e181",
   "metadata": {},
   "outputs": [],
   "source": [
    "df_renamed = df.rename(columns= {'race/ethnicity': 'group' ,\\\n",
    "    'parental level of education' : 'education' ,\\\n",
    "        'test preparation course' : 'course' ,\\\n",
    "            'math score': 'math-score' , \\\n",
    "            'reading score': 'reading-score',\\\n",
    "                'writing score' : 'writing-score'})"
   ]
  },
  {
   "cell_type": "code",
   "execution_count": 33,
   "id": "01faeeda",
   "metadata": {},
   "outputs": [
    {
     "name": "stdout",
     "output_type": "stream",
     "text": [
      "Index(['gender', 'group', 'education', 'lunch', 'course', 'math-score',\n",
      "       'reading-score', 'writing-score'],\n",
      "      dtype='object')\n"
     ]
    }
   ],
   "source": [
    "print(df_renamed.columns) "
   ]
  },
  {
   "cell_type": "code",
   "execution_count": 34,
   "id": "34b020b2",
   "metadata": {},
   "outputs": [],
   "source": [
    "clean_df = df_renamed"
   ]
  },
  {
   "cell_type": "code",
   "execution_count": 36,
   "id": "61f2553a",
   "metadata": {},
   "outputs": [
    {
     "name": "stdout",
     "output_type": "stream",
     "text": [
      "<class 'pandas.core.frame.DataFrame'>\n",
      "RangeIndex: 1000 entries, 0 to 999\n",
      "Data columns (total 8 columns):\n",
      " #   Column         Non-Null Count  Dtype \n",
      "---  ------         --------------  ----- \n",
      " 0   gender         1000 non-null   object\n",
      " 1   group          1000 non-null   object\n",
      " 2   education      1000 non-null   object\n",
      " 3   lunch          1000 non-null   object\n",
      " 4   course         1000 non-null   object\n",
      " 5   math-score     1000 non-null   int64 \n",
      " 6   reading-score  1000 non-null   int64 \n",
      " 7   writing-score  1000 non-null   int64 \n",
      "dtypes: int64(3), object(5)\n",
      "memory usage: 62.6+ KB\n"
     ]
    }
   ],
   "source": [
    "clean_df.info()"
   ]
  },
  {
   "cell_type": "markdown",
   "id": "62708a6b",
   "metadata": {},
   "source": [
    "## phase 2 outputs \n",
    "\n",
    "`clean_df` : this DF is clean and rename some columns to make more friendly and sure the num columns have int type.  "
   ]
  },
  {
   "cell_type": "code",
   "execution_count": null,
   "id": "b1009862",
   "metadata": {},
   "outputs": [],
   "source": []
  }
 ],
 "metadata": {
  "kernelspec": {
   "display_name": "data-analysis",
   "language": "python",
   "name": "python3"
  },
  "language_info": {
   "codemirror_mode": {
    "name": "ipython",
    "version": 3
   },
   "file_extension": ".py",
   "mimetype": "text/x-python",
   "name": "python",
   "nbconvert_exporter": "python",
   "pygments_lexer": "ipython3",
   "version": "3.12.6"
  }
 },
 "nbformat": 4,
 "nbformat_minor": 5
}
